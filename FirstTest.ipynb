{
 "cells": [
  {
   "cell_type": "code",
   "execution_count": 28,
   "id": "2c638409",
   "metadata": {},
   "outputs": [],
   "source": [
    "import warnings\n",
    "\n",
    "# Suppress all warnings\n",
    "warnings.filterwarnings(\"ignore\")"
   ]
  },
  {
   "cell_type": "code",
   "execution_count": 29,
   "metadata": {},
   "outputs": [],
   "source": [
    "import requests\n",
    "from bs4 import BeautifulSoup\n",
    "from yahoo_fin.stock_info import get_analysts_info\n",
    "import pandas as pd"
   ]
  },
  {
   "cell_type": "code",
   "execution_count": 30,
   "id": "11445b01",
   "metadata": {},
   "outputs": [],
   "source": [
    "list_of_news_categories = ['europe', 'us', 'middleeast', 'asia', 'uk', 'investing', 'economy', 'tech', 'weather', 'deals', 'sport', 'business', 'science', 'politics', 'entertainment', 'health', 'travel', 'style']"
   ]
  },
  {
   "cell_type": "code",
   "execution_count": 31,
   "id": "0f072e0a",
   "metadata": {},
   "outputs": [],
   "source": [
    "list_of_companies_to_follow_stocks = ['AMZN', 'TSMC34.SA', 'ADBE']"
   ]
  },
  {
   "cell_type": "code",
   "execution_count": 32,
   "id": "9fca1483",
   "metadata": {},
   "outputs": [],
   "source": [
    "#stock_news_method = get_yf_rss()"
   ]
  },
  {
   "cell_type": "code",
   "execution_count": 33,
   "id": "02c45b31",
   "metadata": {},
   "outputs": [],
   "source": [
    "# Function to clean up text\n",
    "def clean_text(text):\n",
    "    return ' '.join(text.split()).replace('\\\\n', '').strip()"
   ]
  },
  {
   "cell_type": "code",
   "execution_count": 34,
   "id": "611b000d",
   "metadata": {},
   "outputs": [],
   "source": [
    "# Function to determine the category from the URL\n",
    "def get_category_from_url(url):\n",
    "    for category in list_of_news_categories:\n",
    "        if category in url.lower():\n",
    "            return category.capitalize()\n",
    "    return 'Uncategorized'"
   ]
  },
  {
   "cell_type": "code",
   "execution_count": 35,
   "id": "4266891e",
   "metadata": {},
   "outputs": [],
   "source": [
    "# Function to fetch and parse CNN news sitemap\n",
    "def fetch_cnn_news():\n",
    "    url = \"https://www.cnn.com/sitemap/news.xml\"\n",
    "    response = requests.get(url)\n",
    "    soup = BeautifulSoup(response.content, 'xml')\n",
    "    news_items = soup.find_all('url')\n",
    "    \n",
    "    news_data = []\n",
    "    for item in news_items[:5]:  # Limiting to first 5 news articles for brevity\n",
    "        news_url = item.find('loc').text\n",
    "        publication_date = item.find('news:publication_date').text if item.find('news:publication_date') else 'No date'\n",
    "        \n",
    "        news_response = requests.get(news_url)\n",
    "        news_soup = BeautifulSoup(news_response.content, 'html.parser')\n",
    "        title = news_soup.find('h1').text if news_soup.find('h1') else 'No title'\n",
    "        summary = news_soup.find('meta', {'name': 'description'})['content'] if news_soup.find('meta', {'name': 'description'}) else 'No summary'\n",
    "        \n",
    "        # Clean up title and summary\n",
    "        title = clean_text(title)\n",
    "        summary = clean_text(summary)\n",
    "        \n",
    "        category = get_category_from_url(news_url)\n",
    "        \n",
    "        if title != 'No title':\n",
    "            news_data.append({'title': title, 'summary': summary, 'category': category, 'url': news_url, 'publication_date': publication_date})\n",
    "    \n",
    "    return news_data"
   ]
  },
  {
   "cell_type": "code",
   "execution_count": 36,
   "id": "a006f892",
   "metadata": {},
   "outputs": [],
   "source": [
    "cnn_news = fetch_cnn_news()"
   ]
  },
  {
   "cell_type": "code",
   "execution_count": 37,
   "id": "2dc4a5da",
   "metadata": {},
   "outputs": [
    {
     "name": "stdout",
     "output_type": "stream",
     "text": [
      "Length of CNN news:  5\n"
     ]
    }
   ],
   "source": [
    "print('Length of CNN news: ',len(cnn_news))"
   ]
  },
  {
   "cell_type": "code",
   "execution_count": 38,
   "id": "ee1fe7b8",
   "metadata": {},
   "outputs": [
    {
     "name": "stdout",
     "output_type": "stream",
     "text": [
      "CNN News:\n",
      "{'title': 'The latest on the 2024 presidential campaign', 'summary': 'Vice President Kamala Harris and running mate Minnesota Gov. Tim Walz are campaigning for the Democratic ticket in Wisconsin and Michigan today as GOP vice presidential candidate JD Vance also visits those states. Follow here for the latest live updates on the 2024 presidential race.', 'category': 'Politics', 'url': 'https://www.cnn.com/politics/live-news/kamala-harris-trump-election-08-07-24/index.html', 'publication_date': '2024-08-07T12:10:45.154000+00:00'}\n",
      "{'title': 'Look of the Week: Harris-Walz’s campaign hat says more than you might think', 'summary': 'What do sport hunters and fans of breakout queer pop star Chappell Roan have in common? Well, not much, perhaps. But now you can add at least one item to that list: Kamala Harris’ and Tim Walz’s new campaign cap.', 'category': 'Style', 'url': 'https://www.cnn.com/2024/08/07/style/campaign-hat-harris-walz-lotw/index.html', 'publication_date': '2024-08-07T18:10:32.752000+00:00'}\n",
      "{'title': 'The latest on the Paris Olympics', 'summary': 'US swimming superstar Katie Ledecky talks to CNN about her family’s sacrifices to see her succeed and more from Day 12 of the Paris Olympics. Follow here for the latest live news.', 'category': 'Sport', 'url': 'https://www.cnn.com/sport/live-news/paris-olympics-news-2024-08-07/index.html', 'publication_date': '2024-08-07T08:09:54.371000+00:00'}\n",
      "{'title': 'Boeing Starliner astronauts have now been in space more than 60 days with no end in sight', 'summary': 'NASA hosts a news conference as rumors swirl about the fate of Boeing’s Starliner spacecraft.', 'category': 'Science', 'url': 'https://www.cnn.com/2024/08/07/science/boeing-starliner-nasa-astronauts-return/index.html', 'publication_date': '2024-08-07T15:15:26.934000+00:00'}\n",
      "{'title': 'Stocks turn lower as Wall Street struggles to stage a comeback', 'summary': 'US stocks wavered Wednesday midday, giving back earlier gains as investors tried to recover from the week’s bruising losses.', 'category': 'Us', 'url': 'https://www.cnn.com/2024/08/07/investing/us-stocks-economy/index.html', 'publication_date': '2024-08-07T13:33:56.665000+00:00'}\n"
     ]
    }
   ],
   "source": [
    "print(\"CNN News:\")\n",
    "for news in cnn_news:\n",
    "    print(news)"
   ]
  },
  {
   "cell_type": "code",
   "execution_count": 44,
   "id": "da78546d",
   "metadata": {},
   "outputs": [],
   "source": [
    "# Function to fetch and parse Yahoo Finance sectors\n",
    "def fetch_yahoo_finance_quotations(ticker):\n",
    "    url = \"https://finance.yahoo.com/quote/\"+ticker+\"/\"\n",
    "    response = requests.get(url)\n",
    "    soup = BeautifulSoup(response.content, 'html.parser')\n",
    "    \n",
    "    quote = {}\n",
    "    quote_statistics = soup.find('div', {'data-testid': 'quote-statistics'})\n",
    "    \n",
    "    if quote_statistics:\n",
    "        for item in quote_statistics.find_all('li'):\n",
    "            label = item.find('span', class_='label')\n",
    "            value = item.find('span', class_='value')\n",
    "            \n",
    "            label_text = clean_text(label.text) if label else 'No label'\n",
    "            value_text = clean_text(value.text) if value else 'No value'\n",
    "            \n",
    "            if label_text != 'No label': quote[label_text] = value_text \n",
    "    \n",
    "    return quote"
   ]
  },
  {
   "cell_type": "code",
   "execution_count": 45,
   "id": "feb123f1",
   "metadata": {},
   "outputs": [],
   "source": [
    "yahoo_finance_news = fetch_yahoo_finance_quotations()\n"
   ]
  },
  {
   "cell_type": "code",
   "execution_count": 47,
   "id": "9764e23c",
   "metadata": {},
   "outputs": [
    {
     "name": "stdout",
     "output_type": "stream",
     "text": [
      "\n",
      "Yahoo Finance News: {'Previous Close': '609.57', 'Open': '616.07', 'Bid': '613.82 x 100', 'Ask': '614.98 x 100', \"Day's Range\": '612.54 - 632.00', '52 Week Range': '344.73 - 697.49', 'Volume': '2,161,534', 'Avg. Volume': '3,268,311', 'Market Cap (intraday)': '263.799B', 'Beta (5Y Monthly)': '1.27', 'PE Ratio (TTM)': '38.35', 'EPS (TTM)': '16.03', 'Earnings Date': 'Oct 16, 2024 - Oct 21, 2024', 'Forward Dividend & Yield': '--', 'Ex-Dividend Date': '--', '1y Target Est': '692.69'}\n"
     ]
    }
   ],
   "source": [
    "print(\"\\nYahoo Finance News:\", yahoo_finance_news)"
   ]
  }
 ],
 "metadata": {
  "kernelspec": {
   "display_name": "NewsApp",
   "language": "python",
   "name": "python3"
  },
  "language_info": {
   "codemirror_mode": {
    "name": "ipython",
    "version": 3
   },
   "file_extension": ".py",
   "mimetype": "text/x-python",
   "name": "python",
   "nbconvert_exporter": "python",
   "pygments_lexer": "ipython3",
   "version": "3.12.4"
  }
 },
 "nbformat": 4,
 "nbformat_minor": 5
}
